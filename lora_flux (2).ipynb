{
 "cells": [
  {
   "cell_type": "code",
   "execution_count": null,
   "id": "304572b1-3735-4695-8659-f319da1559ee",
   "metadata": {},
   "outputs": [],
   "source": [
    "!git clone https://github.com/ostris/ai-toolkit.git\n",
    "%cd ai-toolkit\n",
    "!git submodule update --init --recursive\n",
    "!python -m venv venv\n",
    "!source venv/bin/activate\n",
    "!pip install torch\n",
    "!rm requirements.txt\n",
    "!wget https://raw.githubusercontent.com/sunnyyangyangyang/ostris-flox-lora-training-runpod-notebook-dependency_list/main/requirement.txt\n",
    "!pip install -r requirement.txt"
   ]
  },
  {
   "cell_type": "code",
   "execution_count": null,
   "id": "79b25106-c0ea-4854-a6a5-79e8e567d4bc",
   "metadata": {},
   "outputs": [],
   "source": [
    "!python run.py config/train_lora_flux_24gb.yaml"
   ]
  }
 ],
 "metadata": {
  "kernelspec": {
   "display_name": "Python 3 (ipykernel)",
   "language": "python",
   "name": "python3"
  },
  "language_info": {
   "codemirror_mode": {
    "name": "ipython",
    "version": 3
   },
   "file_extension": ".py",
   "mimetype": "text/x-python",
   "name": "python",
   "nbconvert_exporter": "python",
   "pygments_lexer": "ipython3",
   "version": "3.10.12"
  }
 },
 "nbformat": 4,
 "nbformat_minor": 5
}
